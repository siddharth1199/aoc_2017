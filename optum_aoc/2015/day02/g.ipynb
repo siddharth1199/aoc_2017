{
 "cells": [
  {
   "cell_type": "markdown",
   "metadata": {},
   "source": [
    "# Advent of Code 2015 \n",
    "\n"
   ]
  },
  {
   "cell_type": "code",
   "execution_count": 3,
   "metadata": {},
   "outputs": [],
   "source": [
    "from typing import List, Tuple\n",
    "from operator import add\n",
    "from itertools import accumulate"
   ]
  },
  {
   "cell_type": "markdown",
   "metadata": {},
   "source": [
    "Some helper functions to make life a bit easier "
   ]
  },
  {
   "cell_type": "code",
   "execution_count": 68,
   "metadata": {},
   "outputs": [],
   "source": [
    "# Unashamedly stolen and adapted from Peter Norvig's Pytudes 2020\n",
    "def data(day: int, parser=str, sep='\\n') -> list:\n",
    "    \"Split the day's input file into sections separated by `sep`, and apply `parser` to each.\"\n",
    "    with open(f'data/day_{day}.txt') as f:\n",
    "        sections = f.read().rstrip().split(sep)\n",
    "        return list(map(parser, sections))\n",
    "\n",
    "def first(iterable, predicate, default = None):\n",
    "    \"\"\"\n",
    "    Return the first item in `iterable` that satisfies `predicate` or \n",
    "    return `default` if no item satisfies `predicate`.\n",
    "    \"\"\"\n",
    "    return next((x for x in iterable if predicate(x)), default)\n",
    "\n",
    "def first_pos(iterable, predicate, default = None):\n",
    "    \"\"\"\n",
    "    Return a tuple of the first index and item `(i, x)` in `iterable` that satisfies \n",
    "    `predicate` or `default` if no item satisfies `predicate`. \n",
    "    \"\"\"\n",
    "    return next(((i, x) for i, x in enumerate(iterable) if predicate(x)), (None, default))"
   ]
  },
  {
   "cell_type": "markdown",
   "metadata": {},
   "source": [
    "## Day 1: Not Quite Lisp"
   ]
  },
  {
   "cell_type": "code",
   "execution_count": 69,
   "metadata": {},
   "outputs": [],
   "source": [
    "Direction = int\n",
    "\n",
    "def bracket_to_direction(bracket: str) -> Direction:\n",
    "    if bracket == \"(\":\n",
    "        return 1\n",
    "    else:\n",
    "        return -1\n",
    "\n",
    "def parse_directions(brackets: str) -> List[Direction]:\n",
    "    \"Parse string of roundy brackets into a list of directions\"\n",
    "    return [bracket_to_direction(x) for x in brackets]"
   ]
  },
  {
   "cell_type": "code",
   "execution_count": 72,
   "metadata": {},
   "outputs": [
    {
     "data": {
      "text/plain": [
       "138"
      ]
     },
     "execution_count": 72,
     "metadata": {},
     "output_type": "execute_result"
    }
   ],
   "source": [
    "# Which floor does Santa end up on?\n",
    "directions = data(1, parse_directions)[0]\n",
    "sum(directions)"
   ]
  },
  {
   "cell_type": "code",
   "execution_count": 73,
   "metadata": {},
   "outputs": [
    {
     "name": "stdout",
     "output_type": "stream",
     "text": [
      "1771 -1\n"
     ]
    }
   ],
   "source": [
    "# Position of first character that causes him to enter the basement (floor -1)?\n",
    "floors = accumulate(directions, add)\n",
    "i, v = first_pos(floors, lambda x: x == -1)\n",
    "# position is index + 1\n",
    "print(i + 1, v)"
   ]
  },
  {
   "cell_type": "markdown",
   "metadata": {},
   "source": [
    "## Day 2: I Was Told There Would Be No Math"
   ]
  },
  {
   "cell_type": "code",
   "execution_count": 66,
   "metadata": {},
   "outputs": [],
   "source": [
    "Measurement = Tuple[int, int, int]\n",
    "Area = int\n",
    "Length = int\n",
    "\n",
    "def parse_measurement(line: str) -> Measurement:\n",
    "    l, w, h = line.split(\"x\")\n",
    "    return int(l), int(w), int(h)\n",
    "\n",
    "def surface_area(m: Measurement) -> Area:\n",
    "    l, w, h = m\n",
    "    return 2*l*w + 2*w*h + 2*h*l\n",
    "\n",
    "def smallest_side(m: Measurement) -> Area:\n",
    "    s1, s2, _ = sorted(m)\n",
    "    return s1 * s2\n",
    "\n",
    "def total_wrapping(m: Measurement) -> Area:\n",
    "    return surface_area(m) + smallest_side(m)\n",
    "\n",
    "def ribbon_length(m: Measurement) -> Length:\n",
    "    s1, s2, _ = sorted(m)\n",
    "    return 2*s1 + 2*s2\n",
    "\n",
    "def bow_length(m: Measurement) -> Length:\n",
    "    l, w, h = m\n",
    "    return l * w * h\n",
    "\n",
    "def total_ribbon(m: Measurement) -> Length:\n",
    "    return ribbon_length(m) + bow_length(m)"
   ]
  },
  {
   "cell_type": "code",
   "execution_count": 74,
   "metadata": {},
   "outputs": [
    {
     "data": {
      "text/plain": [
       "[(4, 23, 21), (22, 29, 19), (11, 4, 11), (8, 10, 5), (24, 18, 16)]"
      ]
     },
     "execution_count": 74,
     "metadata": {},
     "output_type": "execute_result"
    }
   ],
   "source": [
    "measurements = data(2, parse_measurement)\n",
    "measurements[:5]"
   ]
  },
  {
   "cell_type": "code",
   "execution_count": 75,
   "metadata": {},
   "outputs": [
    {
     "data": {
      "text/plain": [
       "1598415"
      ]
     },
     "execution_count": 75,
     "metadata": {},
     "output_type": "execute_result"
    }
   ],
   "source": [
    "sum(total_wrapping(m) for m in measurements)"
   ]
  },
  {
   "cell_type": "code",
   "execution_count": 76,
   "metadata": {},
   "outputs": [
    {
     "data": {
      "text/plain": [
       "3812909"
      ]
     },
     "execution_count": 76,
     "metadata": {},
     "output_type": "execute_result"
    }
   ],
   "source": [
    "sum(total_ribbon(m) for m in measurements)"
   ]
  }
 ],
 "metadata": {
  "language_info": {
   "codemirror_mode": {
    "name": "ipython",
    "version": 3
   },
   "file_extension": ".py",
   "mimetype": "text/x-python",
   "name": "python",
   "nbconvert_exporter": "python",
   "pygments_lexer": "ipython3",
   "version": "3.8.3-final"
  },
  "orig_nbformat": 2.0,
  "kernelspec": {
   "name": "python3",
   "display_name": "Python 3",
   "language": "python"
  }
 },
 "nbformat": 4,
 "nbformat_minor": 2
}
