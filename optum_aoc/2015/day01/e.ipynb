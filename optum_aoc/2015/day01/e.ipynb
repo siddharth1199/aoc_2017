{
 "metadata": {
  "language_info": {
   "codemirror_mode": {
    "name": "ipython",
    "version": 3
   },
   "file_extension": ".py",
   "mimetype": "text/x-python",
   "name": "python",
   "nbconvert_exporter": "python",
   "pygments_lexer": "ipython3",
   "version": "3.8.3-final"
  },
  "orig_nbformat": 2,
  "kernelspec": {
   "name": "python3",
   "display_name": "Python 3",
   "language": "python"
  }
 },
 "nbformat": 4,
 "nbformat_minor": 2,
 "cells": [
  {
   "source": [
    "# Advent of Code 2015 \n",
    "\n"
   ],
   "cell_type": "markdown",
   "metadata": {}
  },
  {
   "cell_type": "code",
   "execution_count": 1,
   "metadata": {},
   "outputs": [],
   "source": [
    "from typing import List\n",
    "from operator import add\n",
    "from itertools import accumulate"
   ]
  },
  {
   "source": [
    "Some helper functions to make life a bit easier "
   ],
   "cell_type": "markdown",
   "metadata": {}
  },
  {
   "cell_type": "code",
   "execution_count": 2,
   "metadata": {},
   "outputs": [],
   "source": [
    "def data(day: int, parser=str) -> list:\n",
    "    \"Read the input for `day` and apply `parser`.\"\n",
    "    # Unashamedly stolen and adapted from Peter Norvig's Pytudes 2020\n",
    "    with open(f\"data/day_{day}.txt\") as f:\n",
    "        data = f.read().rstrip()\n",
    "        return parser(data)\n",
    "\n",
    "def first(iterable, predicate, default = None):\n",
    "    \"\"\"\n",
    "    Return the first item in `iterable` that satisfies `predicate` or \n",
    "    return `default` if no item satisfies `predicate`.\n",
    "    \"\"\"\n",
    "    return next((x for x in iterable if predicate(x)), default)\n",
    "\n",
    "def first_pos(iterable, predicate, default = None):\n",
    "    \"\"\"\n",
    "    Return a tuple of the first index and item `(i, x)` in `iterable` that satisfies \n",
    "    `predicate` or `default` if no item satisfies `predicate`. \n",
    "    \"\"\"\n",
    "    return next(((i, x) for i, x in enumerate(iterable) if predicate(x)), (None, default))"
   ]
  },
  {
   "source": [
    "## Day 1: Not Quite Lisp"
   ],
   "cell_type": "markdown",
   "metadata": {}
  },
  {
   "cell_type": "code",
   "execution_count": 3,
   "metadata": {},
   "outputs": [],
   "source": [
    "Direction = int\n",
    "\n",
    "def bracket_to_direction(bracket: str) -> Direction:\n",
    "    if bracket == \"(\":\n",
    "        return 1\n",
    "    else:\n",
    "        return -1\n",
    "\n",
    "def parse_directions(brackets: str) -> List[Direction]:\n",
    "    \"Parse string of roundy brackets into a list of directions\"\n",
    "    return [bracket_to_direction(x) for x in brackets]"
   ]
  },
  {
   "cell_type": "code",
   "execution_count": 4,
   "metadata": {},
   "outputs": [
    {
     "output_type": "execute_result",
     "data": {
      "text/plain": [
       "138"
      ]
     },
     "metadata": {},
     "execution_count": 4
    }
   ],
   "source": [
    "# Which floor does Santa end up on?\n",
    "directions = data(1, parse_directions)\n",
    "sum(directions)"
   ]
  },
  {
   "cell_type": "code",
   "execution_count": 5,
   "metadata": {},
   "outputs": [
    {
     "output_type": "stream",
     "name": "stdout",
     "text": [
      "1771 -1\n"
     ]
    }
   ],
   "source": [
    "# Position of first character that causes him to enter the basement (floor -1)?\n",
    "floors = accumulate(directions, add)\n",
    "i, v = first_pos(floors, lambda x: x == -1)\n",
    "# position is index + 1\n",
    "print(i + 1, v)"
   ]
  }
 ]
}